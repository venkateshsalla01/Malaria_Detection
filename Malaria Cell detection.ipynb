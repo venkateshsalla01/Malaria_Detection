{
 "cells": [
  {
   "cell_type": "markdown",
   "metadata": {},
   "source": [
    "# Malaria Detection using Cell Images"
   ]
  },
  {
   "cell_type": "code",
   "execution_count": 1,
   "metadata": {},
   "outputs": [],
   "source": [
    "import os"
   ]
  },
  {
   "cell_type": "code",
   "execution_count": 2,
   "metadata": {},
   "outputs": [],
   "source": [
    "os.chdir(r'E:\\Data Science Projects\\Malaria Detection')"
   ]
  },
  {
   "cell_type": "code",
   "execution_count": 3,
   "metadata": {},
   "outputs": [
    {
     "name": "stdout",
     "output_type": "stream",
     "text": [
      " Volume in drive E has no label.\n",
      " Volume Serial Number is 0C92-5301\n",
      "\n",
      " Directory of E:\\Data Science Projects\\Malaria Detection\n",
      "\n",
      "07/11/2020  03:49 PM    <DIR>          .\n",
      "07/11/2020  03:49 PM    <DIR>          ..\n",
      "07/11/2020  03:44 PM    <DIR>          Dataset\n",
      "               0 File(s)              0 bytes\n",
      "               3 Dir(s)  221,643,444,224 bytes free\n"
     ]
    }
   ],
   "source": [
    "ls"
   ]
  },
  {
   "cell_type": "markdown",
   "metadata": {},
   "source": [
    "#Importing libraries"
   ]
  },
  {
   "cell_type": "code",
   "execution_count": 5,
   "metadata": {},
   "outputs": [],
   "source": [
    "from tensorflow.keras.layers import Input,Lambda,Dense,Flatten,Conv2D\n",
    "from tensorflow.keras.models import Model\n",
    "from tensorflow.keras.applications.vgg19 import VGG19\n",
    "from tensorflow.keras.applications.resnet50 import preprocess_input\n",
    "from tensorflow.keras.preprocessing import image\n",
    "from tensorflow.keras.preprocessing.image import ImageDataGenerator,load_img\n",
    "from tensorflow.keras.models import Sequential\n",
    "import numpy as np\n",
    "from glob import glob\n",
    "import matplotlib.pyplot as plt"
   ]
  },
  {
   "cell_type": "code",
   "execution_count": 6,
   "metadata": {},
   "outputs": [],
   "source": [
    "#Resize all the images to this\n",
    "IMAGE_SIZE=[224,224]\n",
    "train_path='Dataset/Train'\n",
    "test_path='Dataset/Test'"
   ]
  },
  {
   "cell_type": "code",
   "execution_count": 7,
   "metadata": {},
   "outputs": [
    {
     "name": "stdout",
     "output_type": "stream",
     "text": [
      "Downloading data from https://storage.googleapis.com/tensorflow/keras-applications/vgg19/vgg19_weights_tf_dim_ordering_tf_kernels_notop.h5\n",
      "80142336/80134624 [==============================] - 220s 3us/step\n"
     ]
    }
   ],
   "source": [
    "#Import the VGG 16 library as shown below and add preprocessing layer to the front of VGG\n",
    "mobilnet=VGG19(input_shape=IMAGE_SIZE+[3], weights='imagenet',include_top=False)"
   ]
  },
  {
   "cell_type": "code",
   "execution_count": 9,
   "metadata": {},
   "outputs": [],
   "source": [
    "for layer in mobilnet.layers:\n",
    "    layer.trainable=False"
   ]
  },
  {
   "cell_type": "code",
   "execution_count": 10,
   "metadata": {},
   "outputs": [],
   "source": [
    "folders=glob('Dataset/Train/*')"
   ]
  },
  {
   "cell_type": "code",
   "execution_count": 11,
   "metadata": {},
   "outputs": [
    {
     "data": {
      "text/plain": [
       "['Dataset/Train\\\\Parasite', 'Dataset/Train\\\\Uninfected']"
      ]
     },
     "execution_count": 11,
     "metadata": {},
     "output_type": "execute_result"
    }
   ],
   "source": [
    "folders"
   ]
  },
  {
   "cell_type": "code",
   "execution_count": 12,
   "metadata": {},
   "outputs": [],
   "source": [
    "#Our layers - you can add more if you want\n",
    "x=Flatten()(mobilnet.output)"
   ]
  },
  {
   "cell_type": "code",
   "execution_count": 14,
   "metadata": {},
   "outputs": [],
   "source": [
    "prediction=Dense(len(folders),activation='softmax')(x)\n",
    "\n",
    "#Create a model object\n",
    "model=Model(inputs=mobilnet.input, outputs=prediction)"
   ]
  },
  {
   "cell_type": "code",
   "execution_count": 15,
   "metadata": {},
   "outputs": [
    {
     "name": "stdout",
     "output_type": "stream",
     "text": [
      "Model: \"model\"\n",
      "_________________________________________________________________\n",
      "Layer (type)                 Output Shape              Param #   \n",
      "=================================================================\n",
      "input_1 (InputLayer)         [(None, 224, 224, 3)]     0         \n",
      "_________________________________________________________________\n",
      "block1_conv1 (Conv2D)        (None, 224, 224, 64)      1792      \n",
      "_________________________________________________________________\n",
      "block1_conv2 (Conv2D)        (None, 224, 224, 64)      36928     \n",
      "_________________________________________________________________\n",
      "block1_pool (MaxPooling2D)   (None, 112, 112, 64)      0         \n",
      "_________________________________________________________________\n",
      "block2_conv1 (Conv2D)        (None, 112, 112, 128)     73856     \n",
      "_________________________________________________________________\n",
      "block2_conv2 (Conv2D)        (None, 112, 112, 128)     147584    \n",
      "_________________________________________________________________\n",
      "block2_pool (MaxPooling2D)   (None, 56, 56, 128)       0         \n",
      "_________________________________________________________________\n",
      "block3_conv1 (Conv2D)        (None, 56, 56, 256)       295168    \n",
      "_________________________________________________________________\n",
      "block3_conv2 (Conv2D)        (None, 56, 56, 256)       590080    \n",
      "_________________________________________________________________\n",
      "block3_conv3 (Conv2D)        (None, 56, 56, 256)       590080    \n",
      "_________________________________________________________________\n",
      "block3_conv4 (Conv2D)        (None, 56, 56, 256)       590080    \n",
      "_________________________________________________________________\n",
      "block3_pool (MaxPooling2D)   (None, 28, 28, 256)       0         \n",
      "_________________________________________________________________\n",
      "block4_conv1 (Conv2D)        (None, 28, 28, 512)       1180160   \n",
      "_________________________________________________________________\n",
      "block4_conv2 (Conv2D)        (None, 28, 28, 512)       2359808   \n",
      "_________________________________________________________________\n",
      "block4_conv3 (Conv2D)        (None, 28, 28, 512)       2359808   \n",
      "_________________________________________________________________\n",
      "block4_conv4 (Conv2D)        (None, 28, 28, 512)       2359808   \n",
      "_________________________________________________________________\n",
      "block4_pool (MaxPooling2D)   (None, 14, 14, 512)       0         \n",
      "_________________________________________________________________\n",
      "block5_conv1 (Conv2D)        (None, 14, 14, 512)       2359808   \n",
      "_________________________________________________________________\n",
      "block5_conv2 (Conv2D)        (None, 14, 14, 512)       2359808   \n",
      "_________________________________________________________________\n",
      "block5_conv3 (Conv2D)        (None, 14, 14, 512)       2359808   \n",
      "_________________________________________________________________\n",
      "block5_conv4 (Conv2D)        (None, 14, 14, 512)       2359808   \n",
      "_________________________________________________________________\n",
      "block5_pool (MaxPooling2D)   (None, 7, 7, 512)         0         \n",
      "_________________________________________________________________\n",
      "flatten (Flatten)            (None, 25088)             0         \n",
      "_________________________________________________________________\n",
      "dense_1 (Dense)              (None, 2)                 50178     \n",
      "=================================================================\n",
      "Total params: 20,074,562\n",
      "Trainable params: 50,178\n",
      "Non-trainable params: 20,024,384\n",
      "_________________________________________________________________\n"
     ]
    }
   ],
   "source": [
    "model.summary()"
   ]
  },
  {
   "cell_type": "code",
   "execution_count": 16,
   "metadata": {},
   "outputs": [],
   "source": [
    "from tensorflow.keras.layers import MaxPooling2D"
   ]
  },
  {
   "cell_type": "code",
   "execution_count": 18,
   "metadata": {},
   "outputs": [
    {
     "name": "stdout",
     "output_type": "stream",
     "text": [
      "Model: \"sequential_1\"\n",
      "_________________________________________________________________\n",
      "Layer (type)                 Output Shape              Param #   \n",
      "=================================================================\n",
      "conv2d (Conv2D)              (None, 224, 224, 16)      208       \n",
      "_________________________________________________________________\n",
      "max_pooling2d (MaxPooling2D) (None, 112, 112, 16)      0         \n",
      "_________________________________________________________________\n",
      "conv2d_1 (Conv2D)            (None, 112, 112, 32)      2080      \n",
      "_________________________________________________________________\n",
      "max_pooling2d_1 (MaxPooling2 (None, 56, 56, 32)        0         \n",
      "_________________________________________________________________\n",
      "conv2d_2 (Conv2D)            (None, 56, 56, 64)        8256      \n",
      "_________________________________________________________________\n",
      "max_pooling2d_2 (MaxPooling2 (None, 28, 28, 64)        0         \n",
      "_________________________________________________________________\n",
      "flatten_1 (Flatten)          (None, 50176)             0         \n",
      "_________________________________________________________________\n",
      "dense_2 (Dense)              (None, 500)               25088500  \n",
      "_________________________________________________________________\n",
      "dense_3 (Dense)              (None, 2)                 1002      \n",
      "=================================================================\n",
      "Total params: 25,100,046\n",
      "Trainable params: 25,100,046\n",
      "Non-trainable params: 0\n",
      "_________________________________________________________________\n"
     ]
    }
   ],
   "source": [
    "### Create Model from scratch using CNN\n",
    "model=Sequential()\n",
    "model.add(Conv2D(filters=16,kernel_size=2,padding=\"same\",activation=\"relu\",input_shape=(224,224,3)))\n",
    "model.add(MaxPooling2D(pool_size=2))\n",
    "model.add(Conv2D(filters=32,kernel_size=2,padding=\"same\",activation =\"relu\"))\n",
    "model.add(MaxPooling2D(pool_size=2))\n",
    "model.add(Conv2D(filters=64,kernel_size=2,padding=\"same\",activation=\"relu\"))\n",
    "model.add(MaxPooling2D(pool_size=2))\n",
    "model.add(Flatten())\n",
    "model.add(Dense(500,activation=\"relu\"))\n",
    "model.add(Dense(2,activation=\"softmax\"))\n",
    "model.summary()"
   ]
  },
  {
   "cell_type": "code",
   "execution_count": 19,
   "metadata": {},
   "outputs": [],
   "source": [
    "#Tell the model what cost and optimization method to use\n",
    "model.compile(\n",
    "    loss='categorical_crossentropy',\n",
    "    optimizer='adam',\n",
    "    metrics=['accuracy']\n",
    ")"
   ]
  },
  {
   "cell_type": "code",
   "execution_count": 20,
   "metadata": {},
   "outputs": [],
   "source": [
    "#Use the Image Data Generator to import the images from the dataset\n",
    "from tensorflow.keras.preprocessing.image import ImageDataGenerator\n",
    "train_datagen=ImageDataGenerator(rescale=1./255,\n",
    "                                shear_range=0.2,\n",
    "                                zoom_range=0.2,\n",
    "                                horizontal_flip=True)\n",
    "\n",
    "test_datagen=ImageDataGenerator(rescale=1./255)"
   ]
  },
  {
   "cell_type": "code",
   "execution_count": 21,
   "metadata": {},
   "outputs": [
    {
     "name": "stdout",
     "output_type": "stream",
     "text": [
      "Found 416 images belonging to 2 classes.\n"
     ]
    }
   ],
   "source": [
    "# Make sure you provide the same target size as initialied for the image size\n",
    "training_set=train_datagen.flow_from_directory('Dataset/Train',\n",
    "                                              target_size=(224,224),\n",
    "                                              batch_size=32,\n",
    "                                              class_mode='categorical')"
   ]
  },
  {
   "cell_type": "code",
   "execution_count": 22,
   "metadata": {},
   "outputs": [
    {
     "name": "stdout",
     "output_type": "stream",
     "text": [
      "Found 134 images belonging to 2 classes.\n"
     ]
    }
   ],
   "source": [
    "test_set = test_datagen.flow_from_directory('Dataset/Test',\n",
    "                                            target_size = (224, 224),\n",
    "                                            batch_size = 32,\n",
    "                                            class_mode = 'categorical')"
   ]
  },
  {
   "cell_type": "code",
   "execution_count": 23,
   "metadata": {},
   "outputs": [
    {
     "name": "stdout",
     "output_type": "stream",
     "text": [
      "WARNING:tensorflow:From <ipython-input-23-7e9b11804f8b>:6: Model.fit_generator (from tensorflow.python.keras.engine.training) is deprecated and will be removed in a future version.\n",
      "Instructions for updating:\n",
      "Please use Model.fit, which supports generators.\n",
      "Epoch 1/50\n",
      "13/13 [==============================] - 34s 3s/step - loss: 1.1363 - accuracy: 0.5721 - val_loss: 0.7409 - val_accuracy: 0.4030\n",
      "Epoch 2/50\n",
      "13/13 [==============================] - 29s 2s/step - loss: 0.6101 - accuracy: 0.6731 - val_loss: 0.9204 - val_accuracy: 0.3209\n",
      "Epoch 3/50\n",
      "13/13 [==============================] - 29s 2s/step - loss: 0.4839 - accuracy: 0.7524 - val_loss: 1.0938 - val_accuracy: 0.3582\n",
      "Epoch 4/50\n",
      "13/13 [==============================] - 27s 2s/step - loss: 0.4857 - accuracy: 0.7596 - val_loss: 1.2426 - val_accuracy: 0.3582\n",
      "Epoch 5/50\n",
      "13/13 [==============================] - 27s 2s/step - loss: 0.4677 - accuracy: 0.7548 - val_loss: 0.7076 - val_accuracy: 0.5896\n",
      "Epoch 6/50\n",
      "13/13 [==============================] - 27s 2s/step - loss: 0.4808 - accuracy: 0.7452 - val_loss: 0.8266 - val_accuracy: 0.4179\n",
      "Epoch 7/50\n",
      "13/13 [==============================] - 27s 2s/step - loss: 0.4282 - accuracy: 0.7885 - val_loss: 0.8650 - val_accuracy: 0.5970\n",
      "Epoch 8/50\n",
      "13/13 [==============================] - 30s 2s/step - loss: 0.4098 - accuracy: 0.8293 - val_loss: 0.6891 - val_accuracy: 0.5597\n",
      "Epoch 9/50\n",
      "13/13 [==============================] - 35s 3s/step - loss: 0.3733 - accuracy: 0.8221 - val_loss: 0.7927 - val_accuracy: 0.5149\n",
      "Epoch 10/50\n",
      "13/13 [==============================] - 36s 3s/step - loss: 0.3178 - accuracy: 0.8606 - val_loss: 0.6006 - val_accuracy: 0.6716\n",
      "Epoch 11/50\n",
      "13/13 [==============================] - 36s 3s/step - loss: 0.3080 - accuracy: 0.8678 - val_loss: 0.5767 - val_accuracy: 0.7015\n",
      "Epoch 12/50\n",
      "13/13 [==============================] - 36s 3s/step - loss: 0.2514 - accuracy: 0.9014 - val_loss: 0.7484 - val_accuracy: 0.6045\n",
      "Epoch 13/50\n",
      "13/13 [==============================] - 36s 3s/step - loss: 0.2366 - accuracy: 0.9087 - val_loss: 0.5997 - val_accuracy: 0.6716\n",
      "Epoch 14/50\n",
      "13/13 [==============================] - 37s 3s/step - loss: 0.2433 - accuracy: 0.9014 - val_loss: 0.5280 - val_accuracy: 0.7463\n",
      "Epoch 15/50\n",
      "13/13 [==============================] - 40s 3s/step - loss: 0.1796 - accuracy: 0.9423 - val_loss: 0.4459 - val_accuracy: 0.7985\n",
      "Epoch 16/50\n",
      "13/13 [==============================] - 32s 2s/step - loss: 0.1686 - accuracy: 0.9423 - val_loss: 0.4711 - val_accuracy: 0.7910\n",
      "Epoch 17/50\n",
      "13/13 [==============================] - 32s 2s/step - loss: 0.1643 - accuracy: 0.9375 - val_loss: 0.4717 - val_accuracy: 0.7687\n",
      "Epoch 18/50\n",
      "13/13 [==============================] - 30s 2s/step - loss: 0.1676 - accuracy: 0.9399 - val_loss: 0.4079 - val_accuracy: 0.7910\n",
      "Epoch 19/50\n",
      "13/13 [==============================] - 31s 2s/step - loss: 0.1449 - accuracy: 0.9351 - val_loss: 0.3334 - val_accuracy: 0.8284\n",
      "Epoch 20/50\n",
      "13/13 [==============================] - 33s 3s/step - loss: 0.1147 - accuracy: 0.9567 - val_loss: 0.3393 - val_accuracy: 0.8582\n",
      "Epoch 21/50\n",
      "13/13 [==============================] - 31s 2s/step - loss: 0.1230 - accuracy: 0.9615 - val_loss: 0.2498 - val_accuracy: 0.9030\n",
      "Epoch 22/50\n",
      "13/13 [==============================] - 31s 2s/step - loss: 0.0931 - accuracy: 0.9639 - val_loss: 0.3892 - val_accuracy: 0.8657\n",
      "Epoch 23/50\n",
      "13/13 [==============================] - 35s 3s/step - loss: 0.1349 - accuracy: 0.9639 - val_loss: 0.2774 - val_accuracy: 0.8806\n",
      "Epoch 24/50\n",
      "13/13 [==============================] - 31s 2s/step - loss: 0.1200 - accuracy: 0.9663 - val_loss: 0.5058 - val_accuracy: 0.8284\n",
      "Epoch 25/50\n",
      "13/13 [==============================] - 30s 2s/step - loss: 0.1153 - accuracy: 0.9591 - val_loss: 0.3548 - val_accuracy: 0.8582\n",
      "Epoch 26/50\n",
      "13/13 [==============================] - 28s 2s/step - loss: 0.0816 - accuracy: 0.9784 - val_loss: 0.3579 - val_accuracy: 0.8284\n",
      "Epoch 27/50\n",
      "13/13 [==============================] - 27s 2s/step - loss: 0.0717 - accuracy: 0.9784 - val_loss: 0.1888 - val_accuracy: 0.9254\n",
      "Epoch 28/50\n",
      "13/13 [==============================] - 27s 2s/step - loss: 0.0796 - accuracy: 0.9760 - val_loss: 0.2503 - val_accuracy: 0.8582\n",
      "Epoch 29/50\n",
      "13/13 [==============================] - 27s 2s/step - loss: 0.0994 - accuracy: 0.9543 - val_loss: 0.2619 - val_accuracy: 0.8881\n",
      "Epoch 30/50\n",
      "13/13 [==============================] - 27s 2s/step - loss: 0.0646 - accuracy: 0.9712 - val_loss: 0.1773 - val_accuracy: 0.9254\n",
      "Epoch 31/50\n",
      "13/13 [==============================] - 27s 2s/step - loss: 0.0724 - accuracy: 0.9832 - val_loss: 0.2561 - val_accuracy: 0.8881\n",
      "Epoch 32/50\n",
      "13/13 [==============================] - 26s 2s/step - loss: 0.0559 - accuracy: 0.9808 - val_loss: 0.2281 - val_accuracy: 0.9104\n",
      "Epoch 33/50\n",
      "13/13 [==============================] - 27s 2s/step - loss: 0.0625 - accuracy: 0.9784 - val_loss: 0.4364 - val_accuracy: 0.8507\n",
      "Epoch 34/50\n",
      "13/13 [==============================] - 27s 2s/step - loss: 0.0563 - accuracy: 0.9808 - val_loss: 0.1994 - val_accuracy: 0.9104\n",
      "Epoch 35/50\n",
      "13/13 [==============================] - 27s 2s/step - loss: 0.0539 - accuracy: 0.9856 - val_loss: 0.2317 - val_accuracy: 0.8955\n",
      "Epoch 36/50\n",
      "13/13 [==============================] - 27s 2s/step - loss: 0.0395 - accuracy: 0.9832 - val_loss: 0.1531 - val_accuracy: 0.9403\n",
      "Epoch 37/50\n",
      "13/13 [==============================] - 27s 2s/step - loss: 0.0720 - accuracy: 0.9808 - val_loss: 0.2333 - val_accuracy: 0.9104\n",
      "Epoch 38/50\n",
      "13/13 [==============================] - 28s 2s/step - loss: 0.0384 - accuracy: 0.9928 - val_loss: 0.1558 - val_accuracy: 0.9403\n",
      "Epoch 39/50\n",
      "13/13 [==============================] - 27s 2s/step - loss: 0.0297 - accuracy: 0.9952 - val_loss: 0.2658 - val_accuracy: 0.8806\n",
      "Epoch 40/50\n",
      "13/13 [==============================] - 27s 2s/step - loss: 0.0189 - accuracy: 0.9928 - val_loss: 0.1658 - val_accuracy: 0.9179\n",
      "Epoch 41/50\n",
      "13/13 [==============================] - 28s 2s/step - loss: 0.0394 - accuracy: 0.9832 - val_loss: 0.1484 - val_accuracy: 0.9328\n",
      "Epoch 42/50\n",
      "13/13 [==============================] - 33s 3s/step - loss: 0.0745 - accuracy: 0.9808 - val_loss: 0.1274 - val_accuracy: 0.9478\n",
      "Epoch 43/50\n",
      "13/13 [==============================] - 31s 2s/step - loss: 0.0624 - accuracy: 0.9712 - val_loss: 0.4941 - val_accuracy: 0.8507\n",
      "Epoch 44/50\n",
      "13/13 [==============================] - 31s 2s/step - loss: 0.0557 - accuracy: 0.9904 - val_loss: 0.2732 - val_accuracy: 0.8881\n",
      "Epoch 45/50\n",
      "13/13 [==============================] - 32s 2s/step - loss: 0.0295 - accuracy: 0.9904 - val_loss: 0.2942 - val_accuracy: 0.8955\n",
      "Epoch 46/50\n",
      "13/13 [==============================] - 31s 2s/step - loss: 0.0190 - accuracy: 0.9952 - val_loss: 0.1991 - val_accuracy: 0.9179\n",
      "Epoch 47/50\n",
      "13/13 [==============================] - 31s 2s/step - loss: 0.0402 - accuracy: 0.9880 - val_loss: 0.3334 - val_accuracy: 0.8806\n",
      "Epoch 48/50\n",
      "13/13 [==============================] - 31s 2s/step - loss: 0.0779 - accuracy: 0.9712 - val_loss: 0.1957 - val_accuracy: 0.9254\n",
      "Epoch 49/50\n",
      "13/13 [==============================] - 30s 2s/step - loss: 0.0619 - accuracy: 0.9736 - val_loss: 0.2375 - val_accuracy: 0.8955\n",
      "Epoch 50/50\n",
      "13/13 [==============================] - 32s 2s/step - loss: 0.0238 - accuracy: 1.0000 - val_loss: 0.2580 - val_accuracy: 0.8955\n"
     ]
    }
   ],
   "source": [
    "# fit the model\n",
    "# Run the cell. It will take some time to execute\n",
    "r=model.fit_generator(training_set,validation_data=test_set,\n",
    "                     epochs=50,\n",
    "                     steps_per_epoch=len(training_set),\n",
    "                     validation_steps=len(test_set))"
   ]
  },
  {
   "cell_type": "code",
   "execution_count": 24,
   "metadata": {},
   "outputs": [
    {
     "data": {
      "image/png": "[encoded data removed]",
      "text/plain": [
       "<Figure size 432x288 with 1 Axes>"
      ]
     },
     "metadata": {
      "needs_background": "light"
     },
     "output_type": "display_data"
    },
    {
     "data": {
      "image/png": "[encoded data removed]",
      "text/plain": [
       "<Figure size 432x288 with 1 Axes>"
      ]
     },
     "metadata": {
      "needs_background": "light"
     },
     "output_type": "display_data"
    },
    {
     "data": {
      "text/plain": [
       "<Figure size 432x288 with 0 Axes>"
      ]
     },
     "metadata": {},
     "output_type": "display_data"
    }
   ],
   "source": [
    "# plot the loss\n",
    "plt.plot(r.history['loss'], label='train loss')\n",
    "plt.plot(r.history['val_loss'], label='val loss')\n",
    "plt.legend()\n",
    "plt.show()\n",
    "plt.savefig('LossVal_loss')\n",
    "\n",
    "# plot the accuracy\n",
    "plt.plot(r.history['accuracy'], label='train acc')\n",
    "plt.plot(r.history['val_accuracy'], label='val acc')\n",
    "plt.legend()\n",
    "plt.show()\n",
    "plt.savefig('AccVal_acc')\n",
    "\n"
   ]
  },
  {
   "cell_type": "code",
   "execution_count": 25,
   "metadata": {},
   "outputs": [],
   "source": [
    "# save it as a h5 file\n",
    "from tensorflow.keras.models import load_model\n",
    "model.save('model_vgg19.h5')"
   ]
  },
  {
   "cell_type": "code",
   "execution_count": 26,
   "metadata": {},
   "outputs": [],
   "source": [
    "y_pred = model.predict(test_set)"
   ]
  },
  {
   "cell_type": "code",
   "execution_count": 27,
   "metadata": {},
   "outputs": [
    {
     "data": {
      "text/plain": [
       "array([[9.99383330e-01, 6.16621459e-04],\n",
       "       [9.99007523e-01, 9.92465182e-04],\n",
       "       [9.99992251e-01, 7.76697470e-06],\n",
       "       [2.09318772e-01, 7.90681183e-01],\n",
       "       [3.05885915e-03, 9.96941149e-01],\n",
       "       [1.35272183e-03, 9.98647273e-01],\n",
       "       [2.75140865e-05, 9.99972463e-01],\n",
       "       [2.24550208e-03, 9.97754514e-01],\n",
       "       [1.00000000e+00, 2.17742020e-08],\n",
       "       [6.08163297e-01, 3.91836703e-01],\n",
       "       [9.99999881e-01, 1.15738274e-07],\n",
       "       [9.99991059e-01, 8.94464210e-06],\n",
       "       [9.99999881e-01, 1.30094918e-07],\n",
       "       [3.82040534e-03, 9.96179581e-01],\n",
       "       [9.98917103e-01, 1.08292780e-03],\n",
       "       [1.37865832e-02, 9.86213386e-01],\n",
       "       [9.99997616e-01, 2.42995816e-06],\n",
       "       [9.99987125e-01, 1.29024620e-05],\n",
       "       [9.99992132e-01, 7.86789406e-06],\n",
       "       [8.78948905e-03, 9.91210580e-01],\n",
       "       [4.18926822e-04, 9.99581039e-01],\n",
       "       [9.99937415e-01, 6.26274268e-05],\n",
       "       [8.54572952e-02, 9.14542675e-01],\n",
       "       [6.52646460e-03, 9.93473470e-01],\n",
       "       [5.94243356e-05, 9.99940515e-01],\n",
       "       [9.99968052e-01, 3.18923267e-05],\n",
       "       [9.99928355e-01, 7.15981514e-05],\n",
       "       [3.82269121e-04, 9.99617696e-01],\n",
       "       [1.00000000e+00, 3.95756405e-09],\n",
       "       [1.00000000e+00, 1.28880644e-13],\n",
       "       [1.32533312e-01, 8.67466748e-01],\n",
       "       [9.99999166e-01, 7.82739676e-07],\n",
       "       [7.59605408e-01, 2.40394562e-01],\n",
       "       [2.27124274e-01, 7.72875786e-01],\n",
       "       [6.70050911e-04, 9.99329925e-01],\n",
       "       [9.98479187e-01, 1.52084662e-03],\n",
       "       [4.58335271e-03, 9.95416641e-01],\n",
       "       [9.99980330e-01, 1.97080244e-05],\n",
       "       [9.99997854e-01, 2.12010855e-06],\n",
       "       [9.99671459e-01, 3.28523805e-04],\n",
       "       [9.99084949e-01, 9.15033335e-04],\n",
       "       [2.26710201e-03, 9.97732878e-01],\n",
       "       [1.00000000e+00, 3.30010472e-08],\n",
       "       [4.73945737e-01, 5.26054323e-01],\n",
       "       [4.20584716e-03, 9.95794177e-01],\n",
       "       [9.97761250e-01, 2.23878049e-03],\n",
       "       [9.99996901e-01, 3.15746161e-06],\n",
       "       [9.99992251e-01, 7.71182476e-06],\n",
       "       [1.55050784e-01, 8.44949245e-01],\n",
       "       [9.99633193e-01, 3.66846187e-04],\n",
       "       [1.00000000e+00, 2.98470759e-08],\n",
       "       [1.00000000e+00, 5.74564007e-12],\n",
       "       [1.91087194e-04, 9.99808967e-01],\n",
       "       [3.40365246e-03, 9.96596396e-01],\n",
       "       [3.63905728e-02, 9.63609397e-01],\n",
       "       [9.99985576e-01, 1.44489341e-05],\n",
       "       [1.46597310e-03, 9.98533964e-01],\n",
       "       [2.41900771e-03, 9.97581005e-01],\n",
       "       [1.00000000e+00, 3.60354867e-12],\n",
       "       [5.18394401e-04, 9.99481618e-01],\n",
       "       [9.99993563e-01, 6.47358593e-06],\n",
       "       [9.99998569e-01, 1.39334361e-06],\n",
       "       [9.99864578e-01, 1.35403883e-04],\n",
       "       [2.33522260e-05, 9.99976635e-01],\n",
       "       [4.54121939e-04, 9.99545872e-01],\n",
       "       [2.60121981e-03, 9.97398734e-01],\n",
       "       [9.99846220e-01, 1.53749643e-04],\n",
       "       [2.17519948e-04, 9.99782503e-01],\n",
       "       [4.89444146e-03, 9.95105624e-01],\n",
       "       [1.18160201e-02, 9.88183975e-01],\n",
       "       [1.82638429e-02, 9.81736183e-01],\n",
       "       [1.00000000e+00, 6.82282397e-10],\n",
       "       [1.00000000e+00, 3.22727955e-13],\n",
       "       [1.01210293e-03, 9.98987854e-01],\n",
       "       [1.00000000e+00, 1.03022715e-19],\n",
       "       [1.00000000e+00, 1.52272417e-09],\n",
       "       [9.99944091e-01, 5.58884931e-05],\n",
       "       [6.05430454e-03, 9.93945658e-01],\n",
       "       [5.56866489e-02, 9.44313288e-01],\n",
       "       [1.49253523e-03, 9.98507440e-01],\n",
       "       [7.76145577e-01, 2.23854393e-01],\n",
       "       [9.99995828e-01, 4.13402222e-06],\n",
       "       [2.52763648e-02, 9.74723637e-01],\n",
       "       [1.88712112e-03, 9.98112917e-01],\n",
       "       [2.00935802e-03, 9.97990608e-01],\n",
       "       [9.56109703e-01, 4.38903309e-02],\n",
       "       [5.80689907e-01, 4.19310063e-01],\n",
       "       [9.94019985e-01, 5.98004088e-03],\n",
       "       [9.99978900e-01, 2.11313582e-05],\n",
       "       [6.30526543e-01, 3.69473487e-01],\n",
       "       [9.99931693e-01, 6.82879399e-05],\n",
       "       [9.99994040e-01, 6.00711428e-06],\n",
       "       [9.99892712e-01, 1.07239066e-04],\n",
       "       [9.99260604e-01, 7.39359355e-04],\n",
       "       [3.09716491e-03, 9.96902764e-01],\n",
       "       [9.99579251e-01, 4.20747441e-04],\n",
       "       [1.00000000e+00, 3.45598750e-08],\n",
       "       [9.29127276e-01, 7.08727688e-02],\n",
       "       [9.99922276e-01, 7.76589368e-05],\n",
       "       [1.19131117e-04, 9.99880910e-01],\n",
       "       [9.99999046e-01, 9.76494903e-07],\n",
       "       [2.66778911e-03, 9.97332215e-01],\n",
       "       [1.00000000e+00, 2.47892365e-17],\n",
       "       [9.99900460e-01, 9.94991933e-05],\n",
       "       [3.21192114e-04, 9.99678850e-01],\n",
       "       [9.99988914e-01, 1.11305317e-05],\n",
       "       [9.99995947e-01, 4.01399211e-06],\n",
       "       [2.05920800e-03, 9.97940719e-01],\n",
       "       [4.91584033e-01, 5.08415997e-01],\n",
       "       [1.00000000e+00, 1.93897987e-09],\n",
       "       [9.99235153e-01, 7.64843193e-04],\n",
       "       [4.02300097e-02, 9.59770024e-01],\n",
       "       [3.84220742e-02, 9.61577952e-01],\n",
       "       [9.99940038e-01, 5.99103150e-05],\n",
       "       [9.69701707e-01, 3.02983671e-02],\n",
       "       [3.93587019e-04, 9.99606431e-01],\n",
       "       [9.99977350e-01, 2.26223965e-05],\n",
       "       [7.72022002e-04, 9.99228001e-01],\n",
       "       [1.00000000e+00, 3.40800597e-08],\n",
       "       [5.81390895e-02, 9.41860914e-01],\n",
       "       [9.99448359e-01, 5.51619916e-04],\n",
       "       [9.99946594e-01, 5.33689890e-05],\n",
       "       [1.77234760e-03, 9.98227656e-01],\n",
       "       [7.59924114e-01, 2.40075886e-01],\n",
       "       [8.81801188e-01, 1.18198879e-01],\n",
       "       [9.87008989e-01, 1.29910493e-02],\n",
       "       [1.00000000e+00, 2.43254338e-18],\n",
       "       [3.48322570e-01, 6.51677430e-01],\n",
       "       [1.00000000e+00, 7.88043941e-09],\n",
       "       [1.00000000e+00, 5.53952606e-10],\n",
       "       [9.99417543e-01, 5.82445180e-04],\n",
       "       [9.99998927e-01, 1.09121152e-06],\n",
       "       [1.00000000e+00, 1.06362119e-16],\n",
       "       [4.75024939e-01, 5.24975061e-01]], dtype=float32)"
      ]
     },
     "execution_count": 27,
     "metadata": {},
     "output_type": "execute_result"
    }
   ],
   "source": [
    "y_pred"
   ]
  },
  {
   "cell_type": "code",
   "execution_count": 28,
   "metadata": {},
   "outputs": [],
   "source": [
    "import numpy as np\n",
    "y_pred = np.argmax(y_pred, axis=1)"
   ]
  },
  {
   "cell_type": "code",
   "execution_count": 29,
   "metadata": {},
   "outputs": [
    {
     "data": {
      "text/plain": [
       "array([0, 0, 0, 1, 1, 1, 1, 1, 0, 0, 0, 0, 0, 1, 0, 1, 0, 0, 0, 1, 1, 0,\n",
       "       1, 1, 1, 0, 0, 1, 0, 0, 1, 0, 0, 1, 1, 0, 1, 0, 0, 0, 0, 1, 0, 1,\n",
       "       1, 0, 0, 0, 1, 0, 0, 0, 1, 1, 1, 0, 1, 1, 0, 1, 0, 0, 0, 1, 1, 1,\n",
       "       0, 1, 1, 1, 1, 0, 0, 1, 0, 0, 0, 1, 1, 1, 0, 0, 1, 1, 1, 0, 0, 0,\n",
       "       0, 0, 0, 0, 0, 0, 1, 0, 0, 0, 0, 1, 0, 1, 0, 0, 1, 0, 0, 1, 1, 0,\n",
       "       0, 1, 1, 0, 0, 1, 0, 1, 0, 1, 0, 0, 1, 0, 0, 0, 0, 1, 0, 0, 0, 0,\n",
       "       0, 1], dtype=int64)"
      ]
     },
     "execution_count": 29,
     "metadata": {},
     "output_type": "execute_result"
    }
   ],
   "source": [
    "y_pred"
   ]
  },
  {
   "cell_type": "code",
   "execution_count": 30,
   "metadata": {},
   "outputs": [],
   "source": [
    "from tensorflow.keras.models import load_model\n",
    "from tensorflow.keras.preprocessing import image"
   ]
  },
  {
   "cell_type": "code",
   "execution_count": 31,
   "metadata": {},
   "outputs": [],
   "source": [
    "model=load_model('model_vgg19.h5')"
   ]
  },
  {
   "cell_type": "code",
   "execution_count": 32,
   "metadata": {},
   "outputs": [],
   "source": [
    "img=image.load_img('Dataset/Test/Uninfected/2.png',target_size=(224,224))"
   ]
  },
  {
   "cell_type": "code",
   "execution_count": 33,
   "metadata": {},
   "outputs": [
    {
     "data": {
      "text/plain": [
       "array([[[0., 0., 0.],\n",
       "        [0., 0., 0.],\n",
       "        [0., 0., 0.],\n",
       "        ...,\n",
       "        [0., 0., 0.],\n",
       "        [0., 0., 0.],\n",
       "        [0., 0., 0.]],\n",
       "\n",
       "       [[0., 0., 0.],\n",
       "        [0., 0., 0.],\n",
       "        [0., 0., 0.],\n",
       "        ...,\n",
       "        [0., 0., 0.],\n",
       "        [0., 0., 0.],\n",
       "        [0., 0., 0.]],\n",
       "\n",
       "       [[0., 0., 0.],\n",
       "        [0., 0., 0.],\n",
       "        [0., 0., 0.],\n",
       "        ...,\n",
       "        [0., 0., 0.],\n",
       "        [0., 0., 0.],\n",
       "        [0., 0., 0.]],\n",
       "\n",
       "       ...,\n",
       "\n",
       "       [[0., 0., 0.],\n",
       "        [0., 0., 0.],\n",
       "        [0., 0., 0.],\n",
       "        ...,\n",
       "        [0., 0., 0.],\n",
       "        [0., 0., 0.],\n",
       "        [0., 0., 0.]],\n",
       "\n",
       "       [[0., 0., 0.],\n",
       "        [0., 0., 0.],\n",
       "        [0., 0., 0.],\n",
       "        ...,\n",
       "        [0., 0., 0.],\n",
       "        [0., 0., 0.],\n",
       "        [0., 0., 0.]],\n",
       "\n",
       "       [[0., 0., 0.],\n",
       "        [0., 0., 0.],\n",
       "        [0., 0., 0.],\n",
       "        ...,\n",
       "        [0., 0., 0.],\n",
       "        [0., 0., 0.],\n",
       "        [0., 0., 0.]]], dtype=float32)"
      ]
     },
     "execution_count": 33,
     "metadata": {},
     "output_type": "execute_result"
    }
   ],
   "source": [
    "x=image.img_to_array(img)\n",
    "x"
   ]
  },
  {
   "cell_type": "code",
   "execution_count": 34,
   "metadata": {},
   "outputs": [
    {
     "data": {
      "text/plain": [
       "(224, 224, 3)"
      ]
     },
     "execution_count": 34,
     "metadata": {},
     "output_type": "execute_result"
    }
   ],
   "source": [
    "x.shape"
   ]
  },
  {
   "cell_type": "code",
   "execution_count": 35,
   "metadata": {},
   "outputs": [],
   "source": [
    "x=x/255"
   ]
  },
  {
   "cell_type": "code",
   "execution_count": 36,
   "metadata": {},
   "outputs": [
    {
     "data": {
      "text/plain": [
       "(1, 224, 224, 3)"
      ]
     },
     "execution_count": 36,
     "metadata": {},
     "output_type": "execute_result"
    }
   ],
   "source": [
    "x=np.expand_dims(x,axis=0)\n",
    "img_data=preprocess_input(x)\n",
    "img_data.shape"
   ]
  },
  {
   "cell_type": "code",
   "execution_count": 37,
   "metadata": {},
   "outputs": [
    {
     "data": {
      "text/plain": [
       "array([[0., 1.]], dtype=float32)"
      ]
     },
     "execution_count": 37,
     "metadata": {},
     "output_type": "execute_result"
    }
   ],
   "source": [
    "model.predict(img_data)"
   ]
  },
  {
   "cell_type": "code",
   "execution_count": 38,
   "metadata": {},
   "outputs": [],
   "source": [
    "a=np.argmax(model.predict(img_data), axis=1)"
   ]
  },
  {
   "cell_type": "code",
   "execution_count": 39,
   "metadata": {},
   "outputs": [
    {
     "name": "stdout",
     "output_type": "stream",
     "text": [
      "Uninfected\n"
     ]
    }
   ],
   "source": [
    "if(a==1):\n",
    "    print(\"Uninfected\")\n",
    "else:\n",
    "    print(\"Infected\")"
   ]
  },
  {
   "cell_type": "code",
   "execution_count": null,
   "metadata": {},
   "outputs": [],
   "source": []
  },
  {
   "cell_type": "code",
   "execution_count": null,
   "metadata": {},
   "outputs": [],
   "source": []
  }
 ],
 "metadata": {
  "kernelspec": {
   "display_name": "Python 3",
   "language": "python",
   "name": "python3"
  },
  "language_info": {
   "codemirror_mode": {
    "name": "ipython",
    "version": 3
   },
   "file_extension": ".py",
   "mimetype": "text/x-python",
   "name": "python",
   "nbconvert_exporter": "python",
   "pygments_lexer": "ipython3",
   "version": "3.7.4"
  }
 },
 "nbformat": 4,
 "nbformat_minor": 2
}
